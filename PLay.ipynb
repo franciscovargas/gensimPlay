{
 "cells": [
  {
   "cell_type": "markdown",
   "metadata": {},
   "source": [
    "# Doc2Vec experiment\n",
    "\n",
    "Sadly doc2 vec seems to work well only in a sentence to vector fashion might be a good idea to just map a set of documents to a set of sentences and on top of that just use the coherency based approach.\n",
    "\n",
    "Additionally providing two identically documents I get different vectors thus there is a bug in my Class. Might have to code the coherency based approach on top of gensims sent2vec or doc2vec."
   ]
  },
  {
   "cell_type": "code",
   "execution_count": 2,
   "metadata": {
    "collapsed": false
   },
   "outputs": [],
   "source": [
    "from gensim.models.doc2vec import LabeledSentence\n",
    "from gensim.models.doc2vec import TaggedLineDocument\n",
    "from gensim.models.doc2vec import Doc2Vec\n",
    "from gensim import utils\n",
    "import numpy as np"
   ]
  },
  {
   "cell_type": "code",
   "execution_count": 19,
   "metadata": {
    "collapsed": true
   },
   "outputs": [],
   "source": [
    "from itertools import chain\n",
    "class LabeledDocs(object):\n",
    "    def __init__(self, sources):\n",
    "        self.sources = sources\n",
    "        \n",
    "        flipped = {}\n",
    "        \n",
    "        # make sure that keys are unique\n",
    "        for key, value in sources.items():\n",
    "            if value not in flipped:\n",
    "                flipped[value] = [key]\n",
    "            else:\n",
    "                raise Exception('Non-unique prefix encountered')\n",
    "    \n",
    "    def __iter__(self):\n",
    "        for source, prefix in self.sources.items():\n",
    "            with utils.smart_open(source) as fin:\n",
    "                # print fin.read().strip(r\"\\n\")\n",
    "                yield LabeledSentence(utils.to_unicode(fin.read()).split(),\n",
    "                                      [prefix])\n",
    "    \n",
    "    def to_array(self):\n",
    "        self.sentences = []\n",
    "        for source, prefix in self.sources.items():\n",
    "            with utils.smart_open(source) as fin:\n",
    "                #print fin, fin.read()\n",
    "                self.sentences.append(LabeledSentence(utils.to_unicode(fin.read()).split(),\n",
    "                                                     [prefix ]))\n",
    "        return self.sentences\n",
    "    \n"
   ]
  },
  {
   "cell_type": "code",
   "execution_count": 20,
   "metadata": {
    "collapsed": false
   },
   "outputs": [],
   "source": [
    "inp = LabeledDocs({\"play\":\"play\", \"play3\":\"play3\"})"
   ]
  },
  {
   "cell_type": "code",
   "execution_count": 21,
   "metadata": {
    "collapsed": false
   },
   "outputs": [],
   "source": [
    "model = Doc2Vec(size=20, window=8, min_count=2, workers=1, alpha=0.025, min_alpha=0.025, batch_words=30)\n"
   ]
  },
  {
   "cell_type": "code",
   "execution_count": 22,
   "metadata": {
    "collapsed": false
   },
   "outputs": [],
   "source": [
    "model.build_vocab(inp.to_array())"
   ]
  },
  {
   "cell_type": "code",
   "execution_count": 23,
   "metadata": {
    "collapsed": false
   },
   "outputs": [],
   "source": [
    "for epoch in range(10):\n",
    "    model.train(inp)"
   ]
  },
  {
   "cell_type": "code",
   "execution_count": 24,
   "metadata": {
    "collapsed": false
   },
   "outputs": [
    {
     "data": {
      "text/plain": [
       "0.018146381"
      ]
     },
     "execution_count": 24,
     "metadata": {},
     "output_type": "execute_result"
    }
   ],
   "source": [
    "import numpy as np\n",
    "np.sum(model.docvecs[\"play\"])"
   ]
  },
  {
   "cell_type": "code",
   "execution_count": 25,
   "metadata": {
    "collapsed": false
   },
   "outputs": [
    {
     "data": {
      "text/plain": [
       "0.098417841"
      ]
     },
     "execution_count": 25,
     "metadata": {},
     "output_type": "execute_result"
    }
   ],
   "source": [
    "np.sum(model.docvecs[\"play3\"])"
   ]
  },
  {
   "cell_type": "code",
   "execution_count": 26,
   "metadata": {
    "collapsed": false
   },
   "outputs": [
    {
     "data": {
      "text/plain": [
       "array([False, False, False, False, False, False, False, False, False,\n",
       "       False, False, False, False, False, False, False, False, False,\n",
       "       False, False], dtype=bool)"
      ]
     },
     "execution_count": 26,
     "metadata": {},
     "output_type": "execute_result"
    }
   ],
   "source": [
    "model.docvecs[\"play3\"] == model.docvecs[\"play\"]  # why is this the case if the docs are identical"
   ]
  },
  {
   "cell_type": "code",
   "execution_count": 23,
   "metadata": {
    "collapsed": false
   },
   "outputs": [],
   "source": [
    "# play 4 has 3 identical paragraphs\n",
    "doc = TaggedLineDocument(\"play4\")"
   ]
  },
  {
   "cell_type": "code",
   "execution_count": 24,
   "metadata": {
    "collapsed": false
   },
   "outputs": [],
   "source": [
    "model = Doc2Vec(size=20, window=8, min_count=2, workers=1, alpha=0.025, min_alpha=0.025, batch_words=1)\n",
    "model.build_vocab(doc)"
   ]
  },
  {
   "cell_type": "code",
   "execution_count": 27,
   "metadata": {
    "collapsed": false
   },
   "outputs": [],
   "source": [
    "# forcing these sentences to give the same vectors besides the different random seeds per paragraph\n",
    "for epoch in range(100000):\n",
    "    model.train(doc)"
   ]
  },
  {
   "cell_type": "code",
   "execution_count": 29,
   "metadata": {
    "collapsed": false
   },
   "outputs": [
    {
     "data": {
      "text/plain": [
       "array([[-0.51845229,  0.37670702,  0.56653804, -0.63391662,  0.0713364 ,\n",
       "         0.16353321, -0.0431617 , -0.24531184,  0.40009505, -0.13420418,\n",
       "        -0.1995839 , -0.00493006, -0.40535817, -0.02384069,  0.30983743,\n",
       "         0.5252257 , -0.54618013,  0.09623739,  0.03955276,  0.1998809 ],\n",
       "       [-0.54277772,  0.39374539,  0.59901023, -0.67358571,  0.07437911,\n",
       "         0.17486122, -0.04132501, -0.25859055,  0.41882136, -0.14497253,\n",
       "        -0.20826729, -0.00561933, -0.42267647, -0.0249706 ,  0.3268317 ,\n",
       "         0.55333692, -0.58275348,  0.09910247,  0.04739791,  0.21325673],\n",
       "       [-0.54715413,  0.39686921,  0.60437012, -0.67958081,  0.07488864,\n",
       "         0.17662121, -0.04153084, -0.26062968,  0.42223096, -0.14651592,\n",
       "        -0.20983626, -0.00574473, -0.42606226, -0.02526709,  0.32961735,\n",
       "         0.55789196, -0.58806503,  0.09967168,  0.04818159,  0.21543086]], dtype=float32)"
      ]
     },
     "execution_count": 29,
     "metadata": {},
     "output_type": "execute_result"
    }
   ],
   "source": [
    "# the more epochs the more itentical setences become\n",
    "np.array(model.docvecs)"
   ]
  },
  {
   "cell_type": "code",
   "execution_count": 14,
   "metadata": {
    "collapsed": false
   },
   "outputs": [
    {
     "data": {
      "text/plain": [
       "(5, 20)"
      ]
     },
     "execution_count": 14,
     "metadata": {},
     "output_type": "execute_result"
    }
   ],
   "source": [
    "np.array(model.docvecs).shape"
   ]
  },
  {
   "cell_type": "code",
   "execution_count": null,
   "metadata": {
    "collapsed": true
   },
   "outputs": [],
   "source": []
  }
 ],
 "metadata": {
  "celltoolbar": "Raw Cell Format",
  "kernelspec": {
   "display_name": "Python 2",
   "language": "python",
   "name": "python2"
  },
  "language_info": {
   "codemirror_mode": {
    "name": "ipython",
    "version": 2
   },
   "file_extension": ".py",
   "mimetype": "text/x-python",
   "name": "python",
   "nbconvert_exporter": "python",
   "pygments_lexer": "ipython2",
   "version": "2.7.6"
  }
 },
 "nbformat": 4,
 "nbformat_minor": 0
}
